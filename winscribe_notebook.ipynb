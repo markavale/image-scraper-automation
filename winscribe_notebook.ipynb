{
 "cells": [
  {
   "cell_type": "code",
   "execution_count": 2,
   "id": "8443dc16-0b7c-428a-b1eb-45744bdc1107",
   "metadata": {},
   "outputs": [],
   "source": [
    "from helpers.windscribe_helpers import Windscribe\n",
    "import os"
   ]
  },
  {
   "cell_type": "code",
   "execution_count": 37,
   "id": "c4c5752f",
   "metadata": {},
   "outputs": [
    {
     "name": "stdout",
     "output_type": "stream",
     "text": [
      "Not logged in\n"
     ]
    }
   ],
   "source": [
    "vpn = Windscribe('servers.txt', 'markavale', '@Linux121598')\n",
    "#vpn.locations()\n",
    "vpn.connect(rand=True)"
   ]
  },
  {
   "cell_type": "code",
   "execution_count": 60,
   "id": "7adec6e2-b014-4e29-ba1d-2f6f7764430d",
   "metadata": {},
   "outputs": [
    {
     "name": "stdout",
     "output_type": "stream",
     "text": [
      "Connection is in progress.  Use 'windscribe-cli status' to check for connection status.\n"
     ]
    }
   ],
   "source": [
    "res = vpn.connect(rand=True)"
   ]
  },
  {
   "cell_type": "code",
   "execution_count": 63,
   "id": "20f34829",
   "metadata": {},
   "outputs": [
    {
     "name": "stdout",
     "output_type": "stream",
     "text": [
      "Internet connectivity: available\n",
      "Login state: Logged in\n",
      "Firewall state: On\n",
      "Connect state: Connecting: Atlanta - Mountain\n",
      "Protocol: WireGuard:443\n",
      "Data usage: 93.34 MB / 10.00 GB\n",
      "Update available: 2.12.7\n"
     ]
    },
    {
     "data": {
      "text/plain": [
       "0"
      ]
     },
     "execution_count": 63,
     "metadata": {},
     "output_type": "execute_result"
    }
   ],
   "source": [
    "os.system('windscribe-cli status')"
   ]
  },
  {
   "cell_type": "code",
   "execution_count": 6,
   "id": "210d4908-d8fa-481c-b696-ec2cab67b507",
   "metadata": {},
   "outputs": [
    {
     "data": {
      "text/plain": [
       "{'servers': ['Mountain',\n",
       "  'Piedmont',\n",
       "  'Ammo',\n",
       "  'BBQ',\n",
       "  'Ranch',\n",
       "  'Barley',\n",
       "  'Hops',\n",
       "  'Glinda',\n",
       "  'MIT',\n",
       "  'Bill',\n",
       "  'Earnhardt',\n",
       "  'Cub',\n",
       "  'The L',\n",
       "  'Wrigley',\n",
       "  'Brown',\n",
       "  'Coney Dog',\n",
       "  'Florida Man',\n",
       "  'Snow',\n",
       "  'Vice',\n",
       "  'Situation',\n",
       "  'Empire',\n",
       "  'Gotham',\n",
       "  'Grand Central',\n",
       "  'Insomnia',\n",
       "  'Tofu Driver',\n",
       "  'Cheese',\n",
       "  'Fresh Prince',\n",
       "  'Cuban Sandwich',\n",
       "  'Precedent',\n",
       "  'Oregon Trail',\n",
       "  'Casino',\n",
       "  'Cube',\n",
       "  'Dogg',\n",
       "  'Eazy',\n",
       "  'Lamar',\n",
       "  'Pac',\n",
       "  'Floatie',\n",
       "  'Sanitation',\n",
       "  'Santana',\n",
       "  'Inside',\n",
       "  'Cobain',\n",
       "  'Cornell',\n",
       "  'Hendrix',\n",
       "  'Expo 67',\n",
       "  'Old Port',\n",
       "  'Comfort Zone',\n",
       "  'The 6',\n",
       "  'Granville',\n",
       "  'Vansterdam',\n",
       "  'Seine',\n",
       "  'Castle',\n",
       "  'Canal',\n",
       "  'Red Light',\n",
       "  'Fjord',\n",
       "  'No Vampires',\n",
       "  'Alphorn',\n",
       "  'Crumpets',\n",
       "  'Custard',\n",
       "  'Ataturk',\n",
       "  'Victoria']}"
      ]
     },
     "execution_count": 6,
     "metadata": {},
     "output_type": "execute_result"
    }
   ],
   "source": [
    "vpn.__dict__"
   ]
  },
  {
   "cell_type": "code",
   "execution_count": 9,
   "id": "2b8b27dd-bfb7-46ce-86ac-6151b209f116",
   "metadata": {},
   "outputs": [
    {
     "name": "stdout",
     "output_type": "stream",
     "text": [
      "Already logged in\n"
     ]
    },
    {
     "data": {
      "text/plain": [
       "256"
      ]
     },
     "execution_count": 9,
     "metadata": {},
     "output_type": "execute_result"
    }
   ],
   "source": [
    "os.system('windscribe-cli login \"markavale\" \"@Linux121598\"')"
   ]
  },
  {
   "cell_type": "code",
   "execution_count": 22,
   "id": "1c29ed29",
   "metadata": {},
   "outputs": [
    {
     "name": "stdout",
     "output_type": "stream",
     "text": [
      "Connection is in progress.  Use 'windscribe-cli status' to check for connection status.\n"
     ]
    },
    {
     "data": {
      "text/plain": [
       "0"
      ]
     },
     "execution_count": 22,
     "metadata": {},
     "output_type": "execute_result"
    }
   ],
   "source": [
    "os.system('windscribe-cli connect \"BBQ\"')"
   ]
  },
  {
   "cell_type": "code",
   "execution_count": 35,
   "id": "aa9c79f5",
   "metadata": {},
   "outputs": [
    {
     "name": "stdout",
     "output_type": "stream",
     "text": [
      "Internet connectivity: available\n",
      "Login state: Logged in\n",
      "Firewall state: On\n",
      "Connect state: Connected: Zurich - Alphorn\n",
      "Protocol: WireGuard:443\n",
      "Data usage: 80.34 MB / 10.00 GB\n",
      "Update available: 2.12.7\n"
     ]
    },
    {
     "data": {
      "text/plain": [
       "0"
      ]
     },
     "execution_count": 35,
     "metadata": {},
     "output_type": "execute_result"
    }
   ],
   "source": [
    "os.system('windscribe-cli status')"
   ]
  },
  {
   "cell_type": "markdown",
   "id": "7e201b91-ed23-4e3e-8700-4f92b83b55a1",
   "metadata": {},
   "source": [
    "### Winscribe Testing V2"
   ]
  },
  {
   "cell_type": "code",
   "execution_count": 7,
   "id": "0094a83a-f5b3-4ea0-981b-88138af28d57",
   "metadata": {},
   "outputs": [
    {
     "name": "stdout",
     "output_type": "stream",
     "text": [
      "Requirement already satisfied: loguru in ./venv/lib/python3.10/site-packages (0.7.2)\n"
     ]
    }
   ],
   "source": [
    "!pip install loguru"
   ]
  },
  {
   "cell_type": "code",
   "execution_count": 33,
   "id": "84fd0ac6-2e3d-4c63-83e3-2e026ca090a7",
   "metadata": {},
   "outputs": [],
   "source": [
    "from helpers import login"
   ]
  },
  {
   "cell_type": "code",
   "execution_count": 42,
   "id": "7b1356ca-24f3-4d15-85e1-95402aff87d9",
   "metadata": {},
   "outputs": [
    {
     "name": "stderr",
     "output_type": "stream",
     "text": [
      "2024-11-20 00:50:54 - INFO - Execute command : windscribe login\n",
      "2024-11-20 00:50:54 - ERROR - Windscribe CLI is not found.\n"
     ]
    },
    {
     "ename": "WindscribeNotFoundException",
     "evalue": "The Windscribe CLI cannot be found.",
     "output_type": "error",
     "traceback": [
      "\u001b[0;31m---------------------------------------------------------------------------\u001b[0m",
      "\u001b[0;31mExceptionPexpect\u001b[0m                          Traceback (most recent call last)",
      "File \u001b[0;32m~/dev/personal_projects/automation/geo_snap_automation/geo_snap_api_scraper/helpers/windscribe.py:112\u001b[0m, in \u001b[0;36mexecute_command\u001b[0;34m(cmd)\u001b[0m\n\u001b[1;32m    110\u001b[0m     logger\u001b[38;5;241m.\u001b[39minfo(\u001b[38;5;124mf\u001b[39m\u001b[38;5;124m\"\u001b[39m\u001b[38;5;124mExecute command : \u001b[39m\u001b[38;5;132;01m{\u001b[39;00mcmd\u001b[38;5;132;01m}\u001b[39;00m\u001b[38;5;124m\"\u001b[39m)\n\u001b[0;32m--> 112\u001b[0m     \u001b[38;5;28;01mreturn\u001b[39;00m \u001b[43mpexpect\u001b[49m\u001b[38;5;241;43m.\u001b[39;49m\u001b[43mspawn\u001b[49m\u001b[43m(\u001b[49m\u001b[43mcmd\u001b[49m\u001b[43m,\u001b[49m\u001b[43m \u001b[49m\u001b[43mencoding\u001b[49m\u001b[38;5;241;43m=\u001b[39;49m\u001b[38;5;124;43m\"\u001b[39;49m\u001b[38;5;124;43mutf-8\u001b[39;49m\u001b[38;5;124;43m\"\u001b[39;49m\u001b[43m,\u001b[49m\u001b[43m \u001b[49m\u001b[43mtimeout\u001b[49m\u001b[38;5;241;43m=\u001b[39;49m\u001b[38;5;28;43;01mNone\u001b[39;49;00m\u001b[43m)\u001b[49m\n\u001b[1;32m    114\u001b[0m \u001b[38;5;28;01mexcept\u001b[39;00m ExceptionPexpect:\n",
      "File \u001b[0;32m/usr/lib/python3/dist-packages/pexpect/pty_spawn.py:205\u001b[0m, in \u001b[0;36mspawn.__init__\u001b[0;34m(self, command, args, timeout, maxread, searchwindowsize, logfile, cwd, env, ignore_sighup, echo, preexec_fn, encoding, codec_errors, dimensions, use_poll)\u001b[0m\n\u001b[1;32m    204\u001b[0m \u001b[38;5;28;01melse\u001b[39;00m:\n\u001b[0;32m--> 205\u001b[0m     \u001b[38;5;28;43mself\u001b[39;49m\u001b[38;5;241;43m.\u001b[39;49m\u001b[43m_spawn\u001b[49m\u001b[43m(\u001b[49m\u001b[43mcommand\u001b[49m\u001b[43m,\u001b[49m\u001b[43m \u001b[49m\u001b[43margs\u001b[49m\u001b[43m,\u001b[49m\u001b[43m \u001b[49m\u001b[43mpreexec_fn\u001b[49m\u001b[43m,\u001b[49m\u001b[43m \u001b[49m\u001b[43mdimensions\u001b[49m\u001b[43m)\u001b[49m\n\u001b[1;32m    206\u001b[0m \u001b[38;5;28mself\u001b[39m\u001b[38;5;241m.\u001b[39muse_poll \u001b[38;5;241m=\u001b[39m use_poll\n",
      "File \u001b[0;32m/usr/lib/python3/dist-packages/pexpect/pty_spawn.py:276\u001b[0m, in \u001b[0;36mspawn._spawn\u001b[0;34m(self, command, args, preexec_fn, dimensions)\u001b[0m\n\u001b[1;32m    275\u001b[0m \u001b[38;5;28;01mif\u001b[39;00m command_with_path \u001b[38;5;129;01mis\u001b[39;00m \u001b[38;5;28;01mNone\u001b[39;00m:\n\u001b[0;32m--> 276\u001b[0m     \u001b[38;5;28;01mraise\u001b[39;00m ExceptionPexpect(\u001b[38;5;124m'\u001b[39m\u001b[38;5;124mThe command was not found or was not \u001b[39m\u001b[38;5;124m'\u001b[39m \u001b[38;5;241m+\u001b[39m\n\u001b[1;32m    277\u001b[0m             \u001b[38;5;124m'\u001b[39m\u001b[38;5;124mexecutable: \u001b[39m\u001b[38;5;132;01m%s\u001b[39;00m\u001b[38;5;124m.\u001b[39m\u001b[38;5;124m'\u001b[39m \u001b[38;5;241m%\u001b[39m \u001b[38;5;28mself\u001b[39m\u001b[38;5;241m.\u001b[39mcommand)\n\u001b[1;32m    278\u001b[0m \u001b[38;5;28mself\u001b[39m\u001b[38;5;241m.\u001b[39mcommand \u001b[38;5;241m=\u001b[39m command_with_path\n",
      "\u001b[0;31mExceptionPexpect\u001b[0m: The command was not found or was not executable: windscribe.",
      "\nDuring handling of the above exception, another exception occurred:\n",
      "\u001b[0;31mWindscribeNotFoundException\u001b[0m               Traceback (most recent call last)",
      "Cell \u001b[0;32mIn[42], line 1\u001b[0m\n\u001b[0;32m----> 1\u001b[0m \u001b[43mlogin\u001b[49m\u001b[43m(\u001b[49m\u001b[43muser\u001b[49m\u001b[38;5;241;43m=\u001b[39;49m\u001b[38;5;124;43m'\u001b[39;49m\u001b[38;5;124;43mmarkavale\u001b[39;49m\u001b[38;5;124;43m'\u001b[39;49m\u001b[43m,\u001b[49m\u001b[43m \u001b[49m\u001b[43mpw\u001b[49m\u001b[38;5;241;43m=\u001b[39;49m\u001b[38;5;124;43m'\u001b[39;49m\u001b[38;5;124;43m@Linux121598\u001b[39;49m\u001b[38;5;124;43m'\u001b[39;49m\u001b[43m)\u001b[49m\n",
      "File \u001b[0;32m~/dev/personal_projects/automation/geo_snap_automation/geo_snap_api_scraper/helpers/windscribe.py:435\u001b[0m, in \u001b[0;36mlogin\u001b[0;34m(user, pw)\u001b[0m\n\u001b[1;32m    431\u001b[0m     \u001b[38;5;28;01mraise\u001b[39;00m \u001b[38;5;167;01mValueError\u001b[39;00m(\n\u001b[1;32m    432\u001b[0m         \u001b[38;5;124m\"\u001b[39m\u001b[38;5;124mWindscribe password must be at least 4 characters long.\u001b[39m\u001b[38;5;124m\"\u001b[39m)\n\u001b[1;32m    434\u001b[0m \u001b[38;5;66;03m# Execute the command\u001b[39;00m\n\u001b[0;32m--> 435\u001b[0m child \u001b[38;5;241m=\u001b[39m \u001b[43mexecute_command\u001b[49m\u001b[43m(\u001b[49m\u001b[38;5;124;43m\"\u001b[39;49m\u001b[38;5;124;43mwindscribe login\u001b[39;49m\u001b[38;5;124;43m\"\u001b[39;49m\u001b[43m)\u001b[49m\n\u001b[1;32m    437\u001b[0m \u001b[38;5;66;03m# Read the output\u001b[39;00m\n\u001b[1;32m    438\u001b[0m match \u001b[38;5;241m=\u001b[39m child\u001b[38;5;241m.\u001b[39mexpect([\u001b[38;5;124m\"\u001b[39m\u001b[38;5;124mWindscribe Username:\u001b[39m\u001b[38;5;124m\"\u001b[39m, \u001b[38;5;124m\"\u001b[39m\u001b[38;5;124mAlready Logged in\u001b[39m\u001b[38;5;124m\"\u001b[39m, EOF])\n",
      "File \u001b[0;32m~/dev/personal_projects/automation/geo_snap_automation/geo_snap_api_scraper/helpers/windscribe.py:117\u001b[0m, in \u001b[0;36mexecute_command\u001b[0;34m(cmd)\u001b[0m\n\u001b[1;32m    114\u001b[0m \u001b[38;5;28;01mexcept\u001b[39;00m ExceptionPexpect:\n\u001b[1;32m    115\u001b[0m     logger\u001b[38;5;241m.\u001b[39merror(\u001b[38;5;124m\"\u001b[39m\u001b[38;5;124mWindscribe CLI is not found.\u001b[39m\u001b[38;5;124m\"\u001b[39m)\n\u001b[0;32m--> 117\u001b[0m     \u001b[38;5;28;01mraise\u001b[39;00m WindscribeNotFoundException(WINDSCRIBE_NOT_FOUND)\n",
      "\u001b[0;31mWindscribeNotFoundException\u001b[0m: The Windscribe CLI cannot be found."
     ]
    }
   ],
   "source": [
    "login(user='markavale', pw='@Linux121598')"
   ]
  }
 ],
 "metadata": {
  "kernelspec": {
   "display_name": "Python 3 (ipykernel)",
   "language": "python",
   "name": "python3"
  },
  "language_info": {
   "codemirror_mode": {
    "name": "ipython",
    "version": 3
   },
   "file_extension": ".py",
   "mimetype": "text/x-python",
   "name": "python",
   "nbconvert_exporter": "python",
   "pygments_lexer": "ipython3",
   "version": "3.10.12"
  }
 },
 "nbformat": 4,
 "nbformat_minor": 5
}
